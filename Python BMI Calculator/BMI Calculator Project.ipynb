{
 "cells": [
  {
   "cell_type": "markdown",
   "id": "0cdbd614",
   "metadata": {},
   "source": [
    "# Body Mass Index Calculator Project\n",
    "\n",
    "https://www.nhlbi.nih.gov/health/educational/lose_wt/BMI/bmicalc.htm"
   ]
  },
  {
   "cell_type": "code",
   "execution_count": null,
   "id": "586ba890",
   "metadata": {},
   "outputs": [],
   "source": [
    "name = input(\"Enter your name: \")\n",
    "weight = int(input(\"Enter your weight in pounds: \"))\n",
    "\n",
    "height = int(input(\"Enter your height in inches: \"))\n",
    "\n",
    "BMI = (weight * 703) / (height**2)\n",
    "\n",
    "print(BMI)\n",
    "\n",
    "\n",
    "if BMI > 0:\n",
    "    if (BMI < 18.5):\n",
    "        print(name + \", you are underweight.\")\n",
    "    elif (BMI <= 24.9):\n",
    "        print(name + \", you are normal weight.\")\n",
    "    elif (BMI <= 29.9):\n",
    "        print(name + \", you are overweight.\")\n",
    "        print(\"Take actions towards better health:\\n Increase physical activity.\\n Eat a heart-healthy diet.\")\n",
    "    else:\n",
    "        print(name + \", you are obese\")\n",
    "        print(\"Take actions towards better health:\\n Increase physical activity.\\n Eat a heart-healthy diet.\")\n",
    "else:\n",
    "    print(\"Enter valid input\")\n",
    "    \n"
   ]
  },
  {
   "cell_type": "code",
   "execution_count": null,
   "id": "42f75546",
   "metadata": {},
   "outputs": [],
   "source": []
  },
  {
   "cell_type": "code",
   "execution_count": null,
   "id": "f0c6925d",
   "metadata": {},
   "outputs": [],
   "source": []
  },
  {
   "cell_type": "code",
   "execution_count": null,
   "id": "72a8ba5a",
   "metadata": {},
   "outputs": [],
   "source": [
    "# Notes\n",
    "\n",
    "#BMI = (weight in pounds x 703) / (height in inches x height in inches)\n",
    "\n",
    "# Underweight = <18.5\n",
    "# Normal weight = 18.5–24.9\n",
    "# Overweight = 25–29.9\n",
    "# Obesity = BMI of 30 or greater "
   ]
  }
 ],
 "metadata": {
  "kernelspec": {
   "display_name": "Python 3 (ipykernel)",
   "language": "python",
   "name": "python3"
  },
  "language_info": {
   "codemirror_mode": {
    "name": "ipython",
    "version": 3
   },
   "file_extension": ".py",
   "mimetype": "text/x-python",
   "name": "python",
   "nbconvert_exporter": "python",
   "pygments_lexer": "ipython3",
   "version": "3.9.13"
  }
 },
 "nbformat": 4,
 "nbformat_minor": 5
}
